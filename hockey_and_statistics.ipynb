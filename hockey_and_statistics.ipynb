{
 "cells": [
  {
   "cell_type": "markdown",
   "metadata": {},
   "source": [
    "# Hockey Tournament"
   ]
  },
  {
   "cell_type": "code",
   "execution_count": 1,
   "metadata": {},
   "outputs": [],
   "source": [
    "from soccer_functions import sequences\n",
    "from collections import defaultdict\n",
    "import numpy as np\n",
    "import pandas as pd"
   ]
  },
  {
   "cell_type": "markdown",
   "metadata": {},
   "source": [
    "## Background"
   ]
  },
  {
   "cell_type": "markdown",
   "metadata": {},
   "source": [
    "The 4 Nations Face-Off features four national teams in competitive ice hockey. There are no ties, and points are awarded as follows:\n",
    "\n",
    "<ul>\n",
    "    <li>3 points for a win in regulation</li>\n",
    "    <li>2 points for a win in overtime</li>\n",
    "    <li>1 point for a loss in overtime</li>\n",
    "    <li>0 points for a loss in regulation</li>\n",
    "    </ul>\n",
    "    \n",
    "Note that there will be three points in total awarded for each game."
   ]
  },
  {
   "cell_type": "markdown",
   "metadata": {},
   "source": [
    "There are six games total: We can say WLOG that: a plays b; then a plays c; then a plays d; then b plays c; then b plays d; then c plays d. Each game has four different outcomes. For the first game, either:\n",
    "\n",
    "<ul>\n",
    "    <li>a defeats b in regulation (3 points to a, 0 points to b)</li> or\n",
    "    <li>a defeats b in overtime (2 points to a, 1 point to b)</li> or\n",
    "    <li>a loses to b in overtime (1 point to a, 2 points to b)</li> or\n",
    "    <li>a loses to b in regulation (0 points to a, 3 points to b)</li>\n",
    "    </ul>"
   ]
  },
  {
   "cell_type": "markdown",
   "metadata": {},
   "source": [
    "## Comparison to World Cup Analysis"
   ]
  },
  {
   "cell_type": "markdown",
   "metadata": {},
   "source": [
    "In previous work we made a similar [analysis](https://www.github.com/gadamico/soccer_and_statistics) in thinking about the group play stage in soccer's World Cup. Let's bring in our sequences function from that earlier work."
   ]
  },
  {
   "cell_type": "code",
   "execution_count": 3,
   "metadata": {},
   "outputs": [
    {
     "name": "stdout",
     "output_type": "stream",
     "text": [
      "\n",
      "    We assume that we want to build a sequence of characters\n",
      "    of a given length where we have a set of choices for each\n",
      "    position in the sequence. This function generates all possible\n",
      "    such sequences. The function assumes that all choice sets have\n",
      "    the same length.\n",
      "    \n",
      "    Example\n",
      "    --------\n",
      "    \n",
      "    sequences(['ab', 'cd']) = ['ac', 'ad', 'bc', 'bd']\n",
      "    \n",
      "    \n"
     ]
    }
   ],
   "source": [
    "print(sequences.__doc__)"
   ]
  },
  {
   "cell_type": "markdown",
   "metadata": {},
   "source": [
    "Suppose we use a capital letter to denote a regulation win for a particular team, and a lowercase letter for an overtime win. Then we can grab a hold of all possible results in the following way:"
   ]
  },
  {
   "cell_type": "code",
   "execution_count": 3,
   "metadata": {},
   "outputs": [
    {
     "data": {
      "text/plain": [
       "4096"
      ]
     },
     "execution_count": 3,
     "metadata": {},
     "output_type": "execute_result"
    }
   ],
   "source": [
    "poss = sequences(['AabB', 'AacC', 'AadD', 'BbcC', 'BbdD', 'CcdD'])\n",
    "len(poss)"
   ]
  },
  {
   "cell_type": "markdown",
   "metadata": {},
   "source": [
    "That's four possible results for each of six games."
   ]
  },
  {
   "cell_type": "code",
   "execution_count": 5,
   "metadata": {},
   "outputs": [
    {
     "data": {
      "text/plain": [
       "4096"
      ]
     },
     "execution_count": 5,
     "metadata": {},
     "output_type": "execute_result"
    }
   ],
   "source": [
    "4**6"
   ]
  },
  {
   "cell_type": "markdown",
   "metadata": {},
   "source": [
    "For the World Cup soccer tournament, I had a \"standings\" function that would convert a sequence of game results to a set of standings. For soccer, my \"standings\" function looked like this:"
   ]
  },
  {
   "cell_type": "code",
   "execution_count": 6,
   "metadata": {},
   "outputs": [],
   "source": [
    "def standings(results):\n",
    "    \"\"\"This function will return a DataFrame of the rankings\n",
    "    of Teams a, b, c, and d given an input string of the\n",
    "    outcomes of the six games, where those games are arranged\n",
    "    in the following order: a vs. b, a vs. c, a vs. d, b vs. c,\n",
    "    b vs. d, c vs. d.\"\"\"\n",
    "    import numpy as np\n",
    "    import pandas as pd\n",
    "    \n",
    "    # Initialize the point totals at 0\n",
    "    a = 0\n",
    "    b = 0\n",
    "    c = 0\n",
    "    d = 0\n",
    "    \n",
    "    # Identify the ties in the outcome string\n",
    "    ties = [j for j in range(6) if results[j] == 't']\n",
    "    \n",
    "    # Assign the ties' points accordingly\n",
    "    if 0 in ties:\n",
    "        a += 1\n",
    "        b += 1\n",
    "    if 1 in ties:\n",
    "        a += 1\n",
    "        c += 1\n",
    "    if 2 in ties:\n",
    "        a += 1\n",
    "        d += 1\n",
    "    if 3 in ties:\n",
    "        b += 1\n",
    "        c += 1\n",
    "    if 4 in ties:\n",
    "        b += 1\n",
    "        d += 1\n",
    "    if 5 in ties:\n",
    "        c += 1\n",
    "        d += 1\n",
    "    \n",
    "    # Assign the wins' points accordingly\n",
    "    a += 3*results.count('a')\n",
    "    b += 3*results.count('b')\n",
    "    c += 3*results.count('c')\n",
    "    d += 3*results.count('d')\n",
    "    \n",
    "    return pd.DataFrame(np.array([a, b, c, d]),\n",
    "                     index=['a', 'b', 'c', 'd'],\n",
    "                       columns=['points']).sort_values(by='points', ascending=False)"
   ]
  },
  {
   "cell_type": "markdown",
   "metadata": {},
   "source": [
    "## From Results to Standings"
   ]
  },
  {
   "cell_type": "markdown",
   "metadata": {},
   "source": [
    "We just need to modify this slightly for our new hockey format:"
   ]
  },
  {
   "cell_type": "code",
   "execution_count": 8,
   "metadata": {},
   "outputs": [],
   "source": [
    "def hockeyStandings(results):\n",
    "    \"\"\"This function will return a DataFrame of the rankings\n",
    "    of Teams a, b, c, and d given an input string of the\n",
    "    outcomes of the six games, where those games are arranged\n",
    "    in the following order: a vs. b, a vs. c, a vs. d, b vs. c,\n",
    "    b vs. d, c vs. d.\"\"\"\n",
    "    import numpy as np\n",
    "    import pandas as pd\n",
    "    \n",
    "    # Initialize the point totals at 0\n",
    "    a = 0\n",
    "    b = 0\n",
    "    c = 0\n",
    "    d = 0\n",
    "    \n",
    "    # Assign the regulation wins' points accordingly\n",
    "    a += 3*results.count('A')\n",
    "    b += 3*results.count('B')\n",
    "    c += 3*results.count('C')\n",
    "    d += 3*results.count('D')\n",
    "    \n",
    "    # Assign the overtime points accordingly\n",
    "    if results[0] == 'a':\n",
    "        a += 2\n",
    "        b += 1\n",
    "    if results[0] == 'b':\n",
    "        a += 1\n",
    "        b += 2\n",
    "    if results[1] == 'a':\n",
    "        a += 2\n",
    "        c += 1\n",
    "    if results[1] == 'c':\n",
    "        a += 1\n",
    "        c += 2\n",
    "    if results[2] == 'a':\n",
    "        a += 2\n",
    "        d += 1\n",
    "    if results[2] == 'd':\n",
    "        a += 1\n",
    "        d += 2\n",
    "    if results[3] == 'b':\n",
    "        b += 2\n",
    "        c += 1\n",
    "    if results[3] == 'c':\n",
    "        b += 1\n",
    "        c += 2\n",
    "    if results[4] == 'b':\n",
    "        b += 2\n",
    "        d += 1\n",
    "    if results[4] == 'd':\n",
    "        b += 1\n",
    "        d += 2\n",
    "    if results[5] == 'c':\n",
    "        c += 2\n",
    "        d += 1\n",
    "    if results[5] == 'd':\n",
    "        c += 1\n",
    "        d += 2\n",
    "    \n",
    "    return pd.DataFrame(np.array([a, b, c, d]),\n",
    "                     index=['a', 'b', 'c', 'd'],\n",
    "                       columns=['points']).sort_values(by='points', ascending=False)"
   ]
  },
  {
   "cell_type": "markdown",
   "metadata": {},
   "source": [
    "Let's try it out!"
   ]
  },
  {
   "cell_type": "code",
   "execution_count": 9,
   "metadata": {},
   "outputs": [
    {
     "data": {
      "text/html": [
       "<div>\n",
       "<style scoped>\n",
       "    .dataframe tbody tr th:only-of-type {\n",
       "        vertical-align: middle;\n",
       "    }\n",
       "\n",
       "    .dataframe tbody tr th {\n",
       "        vertical-align: top;\n",
       "    }\n",
       "\n",
       "    .dataframe thead th {\n",
       "        text-align: right;\n",
       "    }\n",
       "</style>\n",
       "<table border=\"1\" class=\"dataframe\">\n",
       "  <thead>\n",
       "    <tr style=\"text-align: right;\">\n",
       "      <th></th>\n",
       "      <th>points</th>\n",
       "    </tr>\n",
       "  </thead>\n",
       "  <tbody>\n",
       "    <tr>\n",
       "      <th>d</th>\n",
       "      <td>6</td>\n",
       "    </tr>\n",
       "    <tr>\n",
       "      <th>b</th>\n",
       "      <td>5</td>\n",
       "    </tr>\n",
       "    <tr>\n",
       "      <th>a</th>\n",
       "      <td>4</td>\n",
       "    </tr>\n",
       "    <tr>\n",
       "      <th>c</th>\n",
       "      <td>3</td>\n",
       "    </tr>\n",
       "  </tbody>\n",
       "</table>\n",
       "</div>"
      ],
      "text/plain": [
       "   points\n",
       "d       6\n",
       "b       5\n",
       "a       4\n",
       "c       3"
      ]
     },
     "execution_count": 9,
     "metadata": {},
     "output_type": "execute_result"
    }
   ],
   "source": [
    "hockeyStandings('aaDbbd')"
   ]
  },
  {
   "cell_type": "markdown",
   "metadata": {},
   "source": [
    "## Counting"
   ]
  },
  {
   "cell_type": "markdown",
   "metadata": {},
   "source": [
    "Let's now gather all possible sets of standings."
   ]
  },
  {
   "cell_type": "code",
   "execution_count": 13,
   "metadata": {},
   "outputs": [],
   "source": [
    "coll = []\n",
    "for stand in poss:\n",
    "    coll.append(hockeyStandings(stand))"
   ]
  },
  {
   "cell_type": "code",
   "execution_count": 15,
   "metadata": {},
   "outputs": [
    {
     "data": {
      "text/plain": [
       "array([[9, 9, 9, ..., 8, 8, 9],\n",
       "       [6, 6, 6, ..., 7, 7, 6],\n",
       "       [3, 2, 2, ..., 3, 3, 3],\n",
       "       [0, 1, 1, ..., 0, 0, 0]])"
      ]
     },
     "execution_count": 15,
     "metadata": {},
     "output_type": "execute_result"
    }
   ],
   "source": [
    "# These DataFrames may prove unwieldy for our purposes. Let's\n",
    "# make a large NumPy array instead:\n",
    "\n",
    "big_arr = np.concatenate([df.values for df in coll], axis=1)\n",
    "\n",
    "big_arr"
   ]
  },
  {
   "cell_type": "code",
   "execution_count": 16,
   "metadata": {},
   "outputs": [
    {
     "data": {
      "text/plain": [
       "37"
      ]
     },
     "execution_count": 16,
     "metadata": {},
     "output_type": "execute_result"
    }
   ],
   "source": [
    "# Let's now use defaultdict to count how many of each set of final\n",
    "# standings we have:\n",
    "\n",
    "counter = defaultdict(int)\n",
    "\n",
    "# Technical note: We can't use the NumPy arrays themselves as keys,\n",
    "# since they're not hashable. So we'll turn them into strings first!\n",
    "for stand in big_arr.T:\n",
    "    counter[str(stand)] += 1\n",
    "\n",
    "len(counter.keys())"
   ]
  },
  {
   "cell_type": "code",
   "execution_count": 17,
   "metadata": {},
   "outputs": [
    {
     "data": {
      "text/plain": [
       "defaultdict(int,\n",
       "            {'[9 6 3 0]': 24,\n",
       "             '[9 6 2 1]': 24,\n",
       "             '[9 5 3 1]': 48,\n",
       "             '[9 5 2 2]': 24,\n",
       "             '[9 5 4 0]': 24,\n",
       "             '[9 4 3 2]': 72,\n",
       "             '[9 4 4 1]': 24,\n",
       "             '[9 3 3 3]': 16,\n",
       "             '[8 6 3 1]': 96,\n",
       "             '[8 6 2 2]': 48,\n",
       "             '[8 6 4 0]': 48,\n",
       "             '[8 5 3 2]': 168,\n",
       "             '[8 5 4 1]': 120,\n",
       "             '[8 5 5 0]': 24,\n",
       "             '[8 4 3 3]': 120,\n",
       "             '[8 4 4 2]': 96,\n",
       "             '[8 7 3 0]': 24,\n",
       "             '[8 7 2 1]': 24,\n",
       "             '[7 6 3 2]': 240,\n",
       "             '[7 6 4 1]': 168,\n",
       "             '[7 6 5 0]': 72,\n",
       "             '[7 5 3 3]': 192,\n",
       "             '[7 5 4 2]': 312,\n",
       "             '[7 5 5 1]': 96,\n",
       "             '[7 4 4 3]': 216,\n",
       "             '[7 7 4 0]': 24,\n",
       "             '[7 7 3 1]': 48,\n",
       "             '[7 7 2 2]': 24,\n",
       "             '[6 6 3 3]': 120,\n",
       "             '[6 6 4 2]': 192,\n",
       "             '[6 6 5 1]': 120,\n",
       "             '[6 6 6 0]': 16,\n",
       "             '[6 5 4 3]': 600,\n",
       "             '[6 5 5 2]': 216,\n",
       "             '[6 4 4 4]': 112,\n",
       "             '[5 5 4 4]': 192,\n",
       "             '[5 5 5 3]': 112})"
      ]
     },
     "execution_count": 17,
     "metadata": {},
     "output_type": "execute_result"
    }
   ],
   "source": [
    "counter"
   ]
  },
  {
   "cell_type": "code",
   "execution_count": 18,
   "metadata": {},
   "outputs": [
    {
     "data": {
      "text/plain": [
       "4096"
      ]
     },
     "execution_count": 18,
     "metadata": {},
     "output_type": "execute_result"
    }
   ],
   "source": [
    "sum(counter.values())"
   ]
  },
  {
   "cell_type": "code",
   "execution_count": null,
   "metadata": {},
   "outputs": [],
   "source": []
  }
 ],
 "metadata": {
  "kernelspec": {
   "display_name": "Python 3",
   "language": "python",
   "name": "python3"
  },
  "language_info": {
   "codemirror_mode": {
    "name": "ipython",
    "version": 3
   },
   "file_extension": ".py",
   "mimetype": "text/x-python",
   "name": "python",
   "nbconvert_exporter": "python",
   "pygments_lexer": "ipython3",
   "version": "3.8.5"
  }
 },
 "nbformat": 4,
 "nbformat_minor": 4
}
